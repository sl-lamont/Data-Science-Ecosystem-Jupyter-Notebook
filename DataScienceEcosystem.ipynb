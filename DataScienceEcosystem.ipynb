{
 "cells": [
  {
   "cell_type": "markdown",
   "id": "38e8b8f1",
   "metadata": {},
   "source": [
    "# Data Science Tools and Ecosystem"
   ]
  },
  {
   "cell_type": "markdown",
   "id": "651ea019",
   "metadata": {},
   "source": [
    "In this notebook, Data Science Tools and Ecosystem are summarized."
   ]
  },
  {
   "cell_type": "markdown",
   "id": "dab4c588",
   "metadata": {},
   "source": [
    "**Objectives:**\n",
    "- Popular Data Scientist Languages\n",
    "- Commonly Used Libraries For Data Scientist\n",
    "- Open Source Development Environments Used By Data Scientist"
   ]
  },
  {
   "cell_type": "markdown",
   "id": "53ccd578",
   "metadata": {},
   "source": [
    "Some of the popular languages that Data Scientists use are:\n",
    "\n",
    "1. Python\n",
    "2. SQL\n",
    "3. R"
   ]
  },
  {
   "cell_type": "markdown",
   "id": "649c8ca6",
   "metadata": {},
   "source": [
    "Some of the commonly used libraries used by Data Scientists include:\n",
    "\n",
    "1. Matplotlib\n",
    "2. Pandas\n",
    "3. NumPy"
   ]
  },
  {
   "cell_type": "markdown",
   "id": "86afe718",
   "metadata": {},
   "source": [
    "| Data Science Tools | \n",
    "| ------------------ |\n",
    "| RStudio |\n",
    "| Spyder |\n",
    "| Jupyter |\n"
   ]
  },
  {
   "cell_type": "markdown",
   "id": "3add1135",
   "metadata": {},
   "source": [
    "### Below are a few examples of evaluating arithmetic expressions in Python"
   ]
  },
  {
   "cell_type": "code",
   "execution_count": 1,
   "id": "7f7237a2",
   "metadata": {},
   "outputs": [
    {
     "data": {
      "text/plain": [
       "17"
      ]
     },
     "execution_count": 1,
     "metadata": {},
     "output_type": "execute_result"
    }
   ],
   "source": [
    "# This a simple arithmetic expression to mutiply then add integers\n",
    "(3*4)+5"
   ]
  },
  {
   "cell_type": "code",
   "execution_count": 13,
   "id": "8d75de9e",
   "metadata": {},
   "outputs": [
    {
     "data": {
      "text/plain": [
       "'200 minutes converted to hours is 3.3 hours'"
      ]
     },
     "execution_count": 13,
     "metadata": {},
     "output_type": "execute_result"
    }
   ],
   "source": [
    "# This will convert 200 minutes to hours by diving by 60\n",
    "mins = 200\n",
    "hours = min / 60\n",
    "f\"{mins} minutes converted to hours is {hours:.1f} hours.\""
   ]
  },
  {
   "cell_type": "markdown",
   "id": "f7256edc",
   "metadata": {},
   "source": [
    "## Author\n",
    "Tyson Williams"
   ]
  },
  {
   "cell_type": "code",
   "execution_count": null,
   "id": "84ba2b49",
   "metadata": {},
   "outputs": [],
   "source": []
  }
 ],
 "metadata": {
  "kernelspec": {
   "display_name": "Python 3 (ipykernel)",
   "language": "python",
   "name": "python3"
  },
  "language_info": {
   "codemirror_mode": {
    "name": "ipython",
    "version": 3
   },
   "file_extension": ".py",
   "mimetype": "text/x-python",
   "name": "python",
   "nbconvert_exporter": "python",
   "pygments_lexer": "ipython3",
   "version": "3.11.4"
  }
 },
 "nbformat": 4,
 "nbformat_minor": 5
}
